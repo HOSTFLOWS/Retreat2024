{
 "cells": [
  {
   "cell_type": "markdown",
   "id": "2af0211e-35f8-4d6a-bdc9-6c415d21edfe",
   "metadata": {},
   "source": [
    "# Hands-on training\n",
    "\n",
    "In this notebook, you will pick two galaxies from a list and calculate the photometry yourself. Note that these will be later on use by Cristina in her tutorial for fitting galaxy SEDs"
   ]
  },
  {
   "cell_type": "code",
   "execution_count": 6,
   "id": "11001c9d-bf56-4ad6-abec-3cf29e60b70e",
   "metadata": {},
   "outputs": [],
   "source": [
    "import pandas as pd\n",
    "from astropy import units as u\n",
    "from astropy.coordinates import SkyCoord"
   ]
  },
  {
   "cell_type": "code",
   "execution_count": 5,
   "id": "28649ab8-1c26-415d-a3cc-832c44c4062c",
   "metadata": {},
   "outputs": [
    {
     "data": {
      "text/html": [
       "<div>\n",
       "<style scoped>\n",
       "    .dataframe tbody tr th:only-of-type {\n",
       "        vertical-align: middle;\n",
       "    }\n",
       "\n",
       "    .dataframe tbody tr th {\n",
       "        vertical-align: top;\n",
       "    }\n",
       "\n",
       "    .dataframe thead th {\n",
       "        text-align: right;\n",
       "    }\n",
       "</style>\n",
       "<table border=\"1\" class=\"dataframe\">\n",
       "  <thead>\n",
       "    <tr style=\"text-align: right;\">\n",
       "      <th></th>\n",
       "      <th>SN</th>\n",
       "      <th>z</th>\n",
       "      <th>RA</th>\n",
       "      <th>DEC</th>\n",
       "    </tr>\n",
       "  </thead>\n",
       "  <tbody>\n",
       "    <tr>\n",
       "      <th>0</th>\n",
       "      <td>SN2003fg</td>\n",
       "      <td>0.2440</td>\n",
       "      <td>14:16:18.78</td>\n",
       "      <td>+52:14:55.39</td>\n",
       "    </tr>\n",
       "    <tr>\n",
       "      <th>1</th>\n",
       "      <td>SN2006gz</td>\n",
       "      <td>0.0237</td>\n",
       "      <td>18:10:26.33</td>\n",
       "      <td>+30:59:44.41</td>\n",
       "    </tr>\n",
       "    <tr>\n",
       "      <th>2</th>\n",
       "      <td>SN2007if</td>\n",
       "      <td>0.0742</td>\n",
       "      <td>01:10:51.37</td>\n",
       "      <td>+15:27:39.89</td>\n",
       "    </tr>\n",
       "    <tr>\n",
       "      <th>3</th>\n",
       "      <td>SN2009dc</td>\n",
       "      <td>0.0214</td>\n",
       "      <td>15:51:12.12</td>\n",
       "      <td>+25:42:28.01</td>\n",
       "    </tr>\n",
       "    <tr>\n",
       "      <th>4</th>\n",
       "      <td>LSQ12gpw</td>\n",
       "      <td>0.0506</td>\n",
       "      <td>03:12:58.24</td>\n",
       "      <td>-11:42:40.07</td>\n",
       "    </tr>\n",
       "  </tbody>\n",
       "</table>\n",
       "</div>"
      ],
      "text/plain": [
       "         SN       z           RA           DEC\n",
       "0  SN2003fg  0.2440  14:16:18.78  +52:14:55.39\n",
       "1  SN2006gz  0.0237  18:10:26.33  +30:59:44.41\n",
       "2  SN2007if  0.0742  01:10:51.37  +15:27:39.89\n",
       "3  SN2009dc  0.0214  15:51:12.12  +25:42:28.01\n",
       "4  LSQ12gpw  0.0506  03:12:58.24  -11:42:40.07"
      ]
     },
     "execution_count": 5,
     "metadata": {},
     "output_type": "execute_result"
    }
   ],
   "source": [
    "df = pd.read_csv('galaxies.csv')\n",
    "df.head()"
   ]
  },
  {
   "cell_type": "code",
   "execution_count": 12,
   "id": "a9917efd-53b7-4dbe-ae55-eb2c604e78ea",
   "metadata": {},
   "outputs": [],
   "source": [
    "# convert coordinate units to degrees\n",
    "coordinates = SkyCoord(df.RA.values, df.DEC.values, unit=(u.hourangle, u.deg))\n",
    "ra_deg, dec_deg = coordinates.ra.deg, coordinates.dec.deg"
   ]
  },
  {
   "cell_type": "code",
   "execution_count": null,
   "id": "674f9c33-f29d-47f8-abb9-017b12d3eaf1",
   "metadata": {},
   "outputs": [],
   "source": [
    "# ..."
   ]
  }
 ],
 "metadata": {
  "kernelspec": {
   "display_name": "Python 3 (ipykernel)",
   "language": "python",
   "name": "python3"
  },
  "language_info": {
   "codemirror_mode": {
    "name": "ipython",
    "version": 3
   },
   "file_extension": ".py",
   "mimetype": "text/x-python",
   "name": "python",
   "nbconvert_exporter": "python",
   "pygments_lexer": "ipython3",
   "version": "3.12.0"
  }
 },
 "nbformat": 4,
 "nbformat_minor": 5
}
